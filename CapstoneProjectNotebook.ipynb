{
 "cells": [
  {
   "cell_type": "markdown",
   "metadata": {},
   "source": [
    "<div class=\"alert alert-block alert-info\">\n",
    "<b>IBM Capstone Project for Applied Data Science</b>\n",
    "</div>"
   ]
  },
  {
   "cell_type": "markdown",
   "metadata": {},
   "source": [
    "## Battle of the Neighborhoods: Ikinari Steak\n",
    "### What Lies Ahead after a Precipitous Fall?\n",
    "     by Byung Kim"
   ]
  },
  {
   "cell_type": "markdown",
   "metadata": {},
   "source": [
    "<div class=\"alert alert-block alert-info\">\n",
    "Section 1\n",
    "\n",
    "## The Business Problem\n",
    "\n",
    "### A.K.A. What's up with Ikinari Steak? \n",
    "</div>\n",
    "\n",
    "\n",
    "### The Ikinari Steak Story in Japan\n",
    "Ikinari Steak has a near cult following in Japan.\n",
    "The business model is quite simple to understand and can be broken down into three major points:\n",
    "1. Create a high customer turnover environment by making the shops __[\"tachigui\"](https://en.wiktionary.org/wiki/%E7%AB%8B%E3%81%A1%E9%A3%9F%E3%81%84)__, literally \"standing and eating\". <br> There are no seats, so meals are done in 15-20 minutes.\n",
    "2. Higher turnover allows you to provide higher quality meat for lower prices. <br> Improve your margins by hiring retired chefs who don't mind working a couple hours for lunch or dinner and can cook a cut of meat from rare to well-done.\n",
    "3. Find locations near business centers to capture the hearts and stomachs of busy employees who don't mind eating the same delicious thing day-in, day-out. <br> Bring them back by creating rewards programs, including one that records how much meat you ate compared to others.\n",
    "\n",
    "There are over __[300 locations](https://ikinaristeakusa.com/story.html)__ in Japan, with more coming and revenue is looking strong.\n",
    "\n",
    "### The Bloated Start and Precipitous Fall\n",
    "The success of Ikinari Steak in Japan roused up ambition to go global, and Ikinari Steak opened its first location in __[East Village of Manhattan, New York in February 2017](https://www.foodnewsfeed.com/content/stand-restaurant-ikinari-steak-opening-nyc)__.\n",
    "\n",
    "The New York team wasted no time, and by December 2018, they opened a total of __[11 locations throughout Manhattan](https://www.thevillager.com/2018/12/steaks-are-sizzling-at-ikinari-on-bleecker-st/)__. These places included high-profile locations such as Times Square, Chelsea, and Grand Central. \n",
    "\n",
    "Then, in February 15, 2019, an article in Eater announced that __[\"Japanese Standing Steakhouse Ikinari Will Shutter 9 of Its 11 NYC Locations\"](https://ny.eater.com/2019/2/15/18226734/ikinari-closing-pepper-lunch-opening-nyc)__. Ikinari Steak was announcing the closure of 7 locations and the rebranding of 2 due to slowing sales and unfulfilled expectations.\n",
    "\n",
    "What happened in that short period of time?\n",
    "\n",
    "### Anecdotal Evidence\n",
    "It is easy to point out anecdotal missteps.\n",
    "- When New Yorkers hear the word Steakhouse, they are probably not thinking about dashing in and chowing everything down in 15 minutes. Sparks and Peter Luger's has taught us over the years to be well-dressed, bring the family and friends you love, and get ready for a white gloves and wines by the bottle. Even Japanese marketers have taught us with lessons for American brands overseas--it is nigh-impossible to change cultural norms. It takes grueling patience.\n",
    "- The rent is too damn high. Even with the subprime mortgage crisis, commercial real estate remains as strong as ever. There is a slight slowdown at the time of this writing, but there is an almost religious belief that the New York City real estate market will endure anything and everything. And so...\n",
    "- The food is cheap, but not cheap enough. 12-15 dollars on lunch is not unheard of in Midtown, but with food carts now selling steak at lower prices, Ikinari Steak is losing face on its value proposition. But you can't just cut prices--the rent is too damn high!\n",
    "\n",
    "### That's great, but what does the DATA say?\n",
    "I don't have the sales figures and COGS for Ikinari Steak, but I can use data from Foursquare to begin to understand what the surrounding area looked like for the 3 still-standing Ikinari Steak locations and the 7 closed, and 2 rebranded locations.\n",
    "\n",
    "I hope to begin to answer the following overarching business questions:\n",
    "\n",
    "<div class=\"alert alert-block alert-info\">\n",
    "    \n",
    "#### Question 1: What are some common characteristics of the surrounding area for the 11 Ikinari Steak locations?\n",
    "- Can we draw conclusions about the Ikinari Steak New York team's strategy for opening locations?\n",
    "- Can we draw conclusions about why some locations failed, why some are being rebranded, and why some still stand?\n",
    "\n",
    "#### Question 2: If Ikinari Steak were to try expanding once again, where should they challenge?\n",
    "- Perhaps we can begin looking in the larger New York City area for new Ikinari Steak locations.\n",
    "</div>\n",
    "\n",
    "\n"
   ]
  },
  {
   "cell_type": "markdown",
   "metadata": {},
   "source": [
    "<div class=\"alert alert-block alert-info\">\n",
    "Section 2\n",
    "\n",
    "## The Data\n",
    "\n",
    "### The Clean-Up and the Breakdown\n",
    "</div>"
   ]
  },
  {
   "cell_type": "code",
   "execution_count": 1,
   "metadata": {},
   "outputs": [],
   "source": [
    "# import necessary libraries\n",
    "import numpy as np\n",
    "import pandas as pd"
   ]
  },
  {
   "cell_type": "code",
   "execution_count": 2,
   "metadata": {},
   "outputs": [
    {
     "name": "stdout",
     "output_type": "stream",
     "text": [
      "Hello Capstone Project Course!\n"
     ]
    }
   ],
   "source": [
    "# for Week 1 Peer-graded assignment\n",
    "print('Hello Capstone Project Course!')"
   ]
  }
 ],
 "metadata": {
  "kernelspec": {
   "display_name": "Python 3",
   "language": "python",
   "name": "python3"
  },
  "language_info": {
   "codemirror_mode": {
    "name": "ipython",
    "version": 3
   },
   "file_extension": ".py",
   "mimetype": "text/x-python",
   "name": "python",
   "nbconvert_exporter": "python",
   "pygments_lexer": "ipython3",
   "version": "3.7.2"
  }
 },
 "nbformat": 4,
 "nbformat_minor": 2
}
